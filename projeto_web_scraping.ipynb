{
 "cells": [
  {
   "cell_type": "code",
   "execution_count": 9,
   "id": "b26c23a2",
   "metadata": {},
   "outputs": [],
   "source": [
    "from bs4 import BeautifulSoup\n",
    "import requests\n",
    "import re\n",
    "\n",
    "# conectar com o site\n",
    "link = \"https://coinmarketcap.com/\"\n",
    "requisicao = requests.get(link)\n",
    "site = BeautifulSoup(requisicao.text, \"html.parser\")"
   ]
  },
  {
   "cell_type": "code",
   "execution_count": 12,
   "id": "1c9a7fdb",
   "metadata": {},
   "outputs": [
    {
     "name": "stdout",
     "output_type": "stream",
     "text": [
      "{'Bitcoin': {'nome': 'Bitcoin', 'codigo': 'BTC', 'preco': '$26,616.42', 'market_cap': '$513,965,301,301', 'volume': '$42,723,659,915', 'var_1h': '-0.58%', 'var_24h': '7.16%', 'var_7d': '32.00%'}, 'Ethereum': {'nome': 'Ethereum', 'codigo': 'ETH', 'preco': '$1,744.18', 'market_cap': '$213,344,738,808', 'volume': '$10,790,593,442', 'var_1h': '-0.04%', 'var_24h': '5.24%', 'var_7d': '22.59%'}, 'Tether': {'nome': 'Tether', 'codigo': 'USDT', 'preco': '$1.00', 'market_cap': '$75,309,980,355', 'volume': '$63,775,872,408', 'var_1h': '-0.07%', 'var_24h': '-0.09%', 'var_7d': '0.18%'}, 'BNB': {'nome': 'BNB', 'codigo': 'BNB', 'preco': '$335.44', 'market_cap': '$52,939,739,452', 'volume': '$1,278,954,399', 'var_1h': '0.46%', 'var_24h': '7.74%', 'var_7d': '22.31%'}, 'USD Coin': {'nome': 'USD Coin', 'codigo': 'USDC', 'preco': '$0.9999', 'market_cap': '$36,800,035,247', 'volume': '$6,350,978,994', 'var_1h': '-0.02%', 'var_24h': '0.02%', 'var_7d': '-0.01%'}, 'XRP': {'nome': 'XRP', 'codigo': 'XRP', 'preco': '$0.3779', 'market_cap': '$19,255,944,033', 'volume': '$890,821,540', 'var_1h': '0.89%', 'var_24h': '4.04%', 'var_7d': '1.97%'}, 'Cardano': {'nome': 'Cardano', 'codigo': 'ADA', 'preco': '$0.3385', 'market_cap': '$11,747,234,428', 'volume': '$399,128,681', 'var_1h': '-0.62%', 'var_24h': '3.95%', 'var_7d': '7.58%'}, 'Polygon': {'nome': 'Polygon', 'codigo': 'MATIC', 'preco': '$1.19', 'market_cap': '$10,385,673,364', 'volume': '$478,710,241', 'var_1h': '-0.91%', 'var_24h': '4.83%', 'var_7d': '16.37%'}, 'Dogecoin': {'nome': 'Dogecoin', 'codigo': 'DOGE', 'preco': '$0.07481', 'market_cap': '$9,924,614,207', 'volume': '$440,043,628', 'var_1h': '-0.03%', 'var_24h': '5.95%', 'var_7d': '14.30%'}, 'Binance USD': {'nome': 'Binance USD', 'codigo': 'BUSD', 'preco': '$1.00', 'market_cap': '$8,252,358,441', 'volume': '$7,729,779,440', 'var_1h': '-0.02%', 'var_24h': '0.05%', 'var_7d': '-0.03%'}}\n"
     ]
    }
   ],
   "source": [
    "tbody = site.find(\"tbody\")\n",
    "linhas = tbody.find_all(\"tr\")\n",
    "moedas = {}\n",
    "for linha in linhas:\n",
    "    try:\n",
    "        nome = linha.find(class_=\"ePTNty\").text\n",
    "        codigo = linha.find(class_=\"coin-item-symbol\").text\n",
    "        valores = linha.find_all(string=re.compile(\"\\$\"))\n",
    "        preco = valores[0]\n",
    "        percentuais = linha.find_all(string=re.compile(\"%\"))\n",
    "        \n",
    "        for i, percentual in enumerate(percentuais):\n",
    "            if \"bQjSqS\" in percentual.parent[\"class\"]:\n",
    "                percentuais[i] = \"-\" + str(percentual)\n",
    "\n",
    "        var_1h = percentuais[0]\n",
    "        var_24h = percentuais[1]\n",
    "        var_7d = percentuais[2]\n",
    "        \n",
    "        market_cap = valores[2]\n",
    "        volume = valores[3]\n",
    "        dic = {\"nome\": nome, \"codigo\": codigo, \"preco\": preco, \"market_cap\": market_cap, \"volume\": volume,\n",
    "              \"var_1h\": var_1h, \"var_24h\": var_24h, \"var_7d\": var_7d}\n",
    "        moedas[nome] = dic\n",
    "    except AttributeError:\n",
    "        break\n",
    "print(moedas)"
   ]
  },
  {
   "cell_type": "code",
   "execution_count": null,
   "id": "e7aca515",
   "metadata": {},
   "outputs": [],
   "source": []
  }
 ],
 "metadata": {
  "kernelspec": {
   "display_name": "Python 3 (ipykernel)",
   "language": "python",
   "name": "python3"
  },
  "language_info": {
   "codemirror_mode": {
    "name": "ipython",
    "version": 3
   },
   "file_extension": ".py",
   "mimetype": "text/x-python",
   "name": "python",
   "nbconvert_exporter": "python",
   "pygments_lexer": "ipython3",
   "version": "3.9.13"
  }
 },
 "nbformat": 4,
 "nbformat_minor": 5
}
